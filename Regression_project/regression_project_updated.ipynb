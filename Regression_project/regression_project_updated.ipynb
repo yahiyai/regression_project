{
 "cells": [
  {
   "cell_type": "code",
   "execution_count": 1,
   "metadata": {},
   "outputs": [],
   "source": [
    "from sklearn.model_selection import train_test_split\n",
    "from sklearn.linear_model import LinearRegression, Ridge, Lasso \n",
    "from sklearn.preprocessing import StandardScaler, PolynomialFeatures\n",
    "from sklearn.model_selection import cross_val_score\n",
    "from sklearn.metrics import mean_squared_error\n",
    "import sklearn.metrics as metrics\n",
    "import matplotlib.pyplot as plt\n",
    "import numpy as np\n",
    "import pandas as pd\n",
    "from pylab import rcParams\n",
    "rcParams['figure.figsize'] = 9, 5"
   ]
  },
  {
   "cell_type": "code",
   "execution_count": 2,
   "metadata": {},
   "outputs": [
    {
     "data": {
      "text/html": [
       "<div>\n",
       "<style scoped>\n",
       "    .dataframe tbody tr th:only-of-type {\n",
       "        vertical-align: middle;\n",
       "    }\n",
       "\n",
       "    .dataframe tbody tr th {\n",
       "        vertical-align: top;\n",
       "    }\n",
       "\n",
       "    .dataframe thead th {\n",
       "        text-align: right;\n",
       "    }\n",
       "</style>\n",
       "<table border=\"1\" class=\"dataframe\">\n",
       "  <thead>\n",
       "    <tr style=\"text-align: right;\">\n",
       "      <th></th>\n",
       "      <th>model</th>\n",
       "      <th>year</th>\n",
       "      <th>transmission</th>\n",
       "      <th>mileage</th>\n",
       "      <th>fuelType</th>\n",
       "      <th>tax</th>\n",
       "      <th>mpg</th>\n",
       "      <th>engineSize</th>\n",
       "      <th>price</th>\n",
       "    </tr>\n",
       "  </thead>\n",
       "  <tbody>\n",
       "    <tr>\n",
       "      <td>0</td>\n",
       "      <td>GT86</td>\n",
       "      <td>2016</td>\n",
       "      <td>Manual</td>\n",
       "      <td>24089</td>\n",
       "      <td>Petrol</td>\n",
       "      <td>265</td>\n",
       "      <td>36.2</td>\n",
       "      <td>2.0</td>\n",
       "      <td>16000</td>\n",
       "    </tr>\n",
       "    <tr>\n",
       "      <td>1</td>\n",
       "      <td>GT86</td>\n",
       "      <td>2017</td>\n",
       "      <td>Manual</td>\n",
       "      <td>18615</td>\n",
       "      <td>Petrol</td>\n",
       "      <td>145</td>\n",
       "      <td>36.2</td>\n",
       "      <td>2.0</td>\n",
       "      <td>15995</td>\n",
       "    </tr>\n",
       "  </tbody>\n",
       "</table>\n",
       "</div>"
      ],
      "text/plain": [
       "  model  year transmission  mileage fuelType  tax   mpg  engineSize  price\n",
       "0  GT86  2016       Manual    24089   Petrol  265  36.2         2.0  16000\n",
       "1  GT86  2017       Manual    18615   Petrol  145  36.2         2.0  15995"
      ]
     },
     "execution_count": 2,
     "metadata": {},
     "output_type": "execute_result"
    }
   ],
   "source": [
    "dataset = pd.read_csv('toyota_cleaned_dataset_v2.csv')\n",
    "dataset.head(2)"
   ]
  },
  {
   "cell_type": "code",
   "execution_count": 5,
   "metadata": {},
   "outputs": [],
   "source": [
    "# up to 6 values are 0 \n",
    "# to solve this issue substitute with mean\n",
    "dataset['engineSize'][dataset.engineSize == 0] = dataset.engineSize.median()"
   ]
  },
  {
   "cell_type": "code",
   "execution_count": 6,
   "metadata": {},
   "outputs": [
    {
     "data": {
      "text/html": [
       "<div>\n",
       "<style scoped>\n",
       "    .dataframe tbody tr th:only-of-type {\n",
       "        vertical-align: middle;\n",
       "    }\n",
       "\n",
       "    .dataframe tbody tr th {\n",
       "        vertical-align: top;\n",
       "    }\n",
       "\n",
       "    .dataframe thead th {\n",
       "        text-align: right;\n",
       "    }\n",
       "</style>\n",
       "<table border=\"1\" class=\"dataframe\">\n",
       "  <thead>\n",
       "    <tr style=\"text-align: right;\">\n",
       "      <th></th>\n",
       "      <th>year</th>\n",
       "      <th>mileage</th>\n",
       "      <th>tax</th>\n",
       "      <th>mpg</th>\n",
       "      <th>engineSize</th>\n",
       "      <th>price</th>\n",
       "      <th>model_Avensis</th>\n",
       "      <th>model_Aygo</th>\n",
       "      <th>model_C-HR</th>\n",
       "      <th>model_Camry</th>\n",
       "      <th>...</th>\n",
       "      <th>model_Hilux</th>\n",
       "      <th>model_PROACE VERSO</th>\n",
       "      <th>model_Prius</th>\n",
       "      <th>model_RAV4</th>\n",
       "      <th>model_Verso</th>\n",
       "      <th>model_Yaris</th>\n",
       "      <th>transmission_Manual</th>\n",
       "      <th>transmission_Semi-Auto</th>\n",
       "      <th>fuelType_Hybrid</th>\n",
       "      <th>fuelType_Petrol</th>\n",
       "    </tr>\n",
       "  </thead>\n",
       "  <tbody>\n",
       "    <tr>\n",
       "      <td>0</td>\n",
       "      <td>2016</td>\n",
       "      <td>24089</td>\n",
       "      <td>265</td>\n",
       "      <td>36.2</td>\n",
       "      <td>2.0</td>\n",
       "      <td>16000</td>\n",
       "      <td>0</td>\n",
       "      <td>0</td>\n",
       "      <td>0</td>\n",
       "      <td>0</td>\n",
       "      <td>...</td>\n",
       "      <td>0</td>\n",
       "      <td>0</td>\n",
       "      <td>0</td>\n",
       "      <td>0</td>\n",
       "      <td>0</td>\n",
       "      <td>0</td>\n",
       "      <td>1</td>\n",
       "      <td>0</td>\n",
       "      <td>0</td>\n",
       "      <td>1</td>\n",
       "    </tr>\n",
       "    <tr>\n",
       "      <td>1</td>\n",
       "      <td>2017</td>\n",
       "      <td>18615</td>\n",
       "      <td>145</td>\n",
       "      <td>36.2</td>\n",
       "      <td>2.0</td>\n",
       "      <td>15995</td>\n",
       "      <td>0</td>\n",
       "      <td>0</td>\n",
       "      <td>0</td>\n",
       "      <td>0</td>\n",
       "      <td>...</td>\n",
       "      <td>0</td>\n",
       "      <td>0</td>\n",
       "      <td>0</td>\n",
       "      <td>0</td>\n",
       "      <td>0</td>\n",
       "      <td>0</td>\n",
       "      <td>1</td>\n",
       "      <td>0</td>\n",
       "      <td>0</td>\n",
       "      <td>1</td>\n",
       "    </tr>\n",
       "    <tr>\n",
       "      <td>2</td>\n",
       "      <td>2015</td>\n",
       "      <td>27469</td>\n",
       "      <td>265</td>\n",
       "      <td>36.2</td>\n",
       "      <td>2.0</td>\n",
       "      <td>13998</td>\n",
       "      <td>0</td>\n",
       "      <td>0</td>\n",
       "      <td>0</td>\n",
       "      <td>0</td>\n",
       "      <td>...</td>\n",
       "      <td>0</td>\n",
       "      <td>0</td>\n",
       "      <td>0</td>\n",
       "      <td>0</td>\n",
       "      <td>0</td>\n",
       "      <td>0</td>\n",
       "      <td>1</td>\n",
       "      <td>0</td>\n",
       "      <td>0</td>\n",
       "      <td>1</td>\n",
       "    </tr>\n",
       "  </tbody>\n",
       "</table>\n",
       "<p>3 rows × 22 columns</p>\n",
       "</div>"
      ],
      "text/plain": [
       "   year  mileage  tax   mpg  engineSize  price  model_Avensis  model_Aygo  \\\n",
       "0  2016    24089  265  36.2         2.0  16000              0           0   \n",
       "1  2017    18615  145  36.2         2.0  15995              0           0   \n",
       "2  2015    27469  265  36.2         2.0  13998              0           0   \n",
       "\n",
       "   model_C-HR  model_Camry  ...  model_Hilux  model_PROACE VERSO  model_Prius  \\\n",
       "0           0            0  ...            0                   0            0   \n",
       "1           0            0  ...            0                   0            0   \n",
       "2           0            0  ...            0                   0            0   \n",
       "\n",
       "   model_RAV4  model_Verso  model_Yaris  transmission_Manual  \\\n",
       "0           0            0            0                    1   \n",
       "1           0            0            0                    1   \n",
       "2           0            0            0                    1   \n",
       "\n",
       "   transmission_Semi-Auto  fuelType_Hybrid  fuelType_Petrol  \n",
       "0                       0                0                1  \n",
       "1                       0                0                1  \n",
       "2                       0                0                1  \n",
       "\n",
       "[3 rows x 22 columns]"
      ]
     },
     "execution_count": 6,
     "metadata": {},
     "output_type": "execute_result"
    }
   ],
   "source": [
    "dataset = pd.get_dummies(dataset, drop_first=True)\n",
    "dataset.head(3)"
   ]
  },
  {
   "cell_type": "code",
   "execution_count": 7,
   "metadata": {},
   "outputs": [],
   "source": [
    "X, y = dataset.drop('price',axis=1), dataset['price']\n",
    "\n",
    "# splitting data to 20/80 for testing and traning\n",
    "X_train, X_test, y_train, y_test = train_test_split(X, y, test_size=.2, random_state=10)"
   ]
  },
  {
   "cell_type": "code",
   "execution_count": 18,
   "metadata": {},
   "outputs": [
    {
     "name": "stdout",
     "output_type": "stream",
     "text": [
      "(4672, 21) (1169, 21)\n"
     ]
    }
   ],
   "source": [
    "print(X_train.shape, X_test.shape)"
   ]
  },
  {
   "cell_type": "code",
   "execution_count": 9,
   "metadata": {},
   "outputs": [
    {
     "data": {
      "text/plain": [
       "(1169, 21)"
      ]
     },
     "execution_count": 9,
     "metadata": {},
     "output_type": "execute_result"
    }
   ],
   "source": [
    "X_test.shape"
   ]
  },
  {
   "cell_type": "markdown",
   "metadata": {},
   "source": [
    "<h3><center>1. Build a linear model</center></h3>"
   ]
  },
  {
   "cell_type": "code",
   "execution_count": 10,
   "metadata": {},
   "outputs": [
    {
     "name": "stdout",
     "output_type": "stream",
     "text": [
      "The average validation score is: 0.9487\t AND R^2 = 0.9452\n",
      "Mean Squared Error: 1264586.81\n"
     ]
    }
   ],
   "source": [
    "# linear model\n",
    "lm = LinearRegression()\n",
    "\n",
    "# linear regression model cross validation\n",
    "val_score = cross_val_score(lm, X_train, y_train, # estimator, features, target\n",
    "                cv=5, # number of folds \n",
    "                scoring='r2') # scoring metric\n",
    "val_sc = round(val_score.mean(),4)\n",
    "\n",
    "lm.fit(X_train, y_train)\n",
    "y_pred_test = lm.predict(X_test)\n",
    "r_2 = round(metrics.r2_score(y_test,y_pred_test),4)\n",
    "mean_sq = round(mean_squared_error(y_test,y_pred_test),2 )\n",
    "print(f'The average validation score is: {val_sc}\\t AND R^2 = {r_2}')\n",
    "print(f'Mean Squared Error: {mean_sq}') "
   ]
  },
  {
   "cell_type": "markdown",
   "metadata": {},
   "source": [
    "<h3><center>2. Lasso Regression</center></h3>"
   ]
  },
  {
   "cell_type": "code",
   "execution_count": 11,
   "metadata": {},
   "outputs": [
    {
     "name": "stdout",
     "output_type": "stream",
     "text": [
      "The average validation score is: 0.9486\t AND R^2 = 0.9454\n",
      "Mean Squared Error: 1260993.2\n"
     ]
    }
   ],
   "source": [
    "# lasso model\n",
    "lm_laso = Lasso(alpha=0.7)\n",
    "\n",
    "# lasso regression model cross validation\n",
    "val_score = cross_val_score(lm_laso, X_train, y_train, # estimator, features, target\n",
    "                cv=5, # number of folds \n",
    "                scoring='r2') # scoring metric\n",
    "val_sc = round(val_score.mean(),4)\n",
    "\n",
    "lm_laso.fit(X_train, y_train)\n",
    "y_pred_test = lm_laso.predict(X_test)\n",
    "r_2 = round(metrics.r2_score(y_test,y_pred_test),4)\n",
    "mean_sq = round(mean_squared_error(y_test,y_pred_test),2 )\n",
    "print(f'The average validation score is: {val_sc}\\t AND R^2 = {r_2}')\n",
    "print(f'Mean Squared Error: {mean_sq}') "
   ]
  },
  {
   "cell_type": "markdown",
   "metadata": {},
   "source": [
    "<h3><center>3. Ridge regression</center></h3>"
   ]
  },
  {
   "cell_type": "code",
   "execution_count": 12,
   "metadata": {},
   "outputs": [
    {
     "name": "stdout",
     "output_type": "stream",
     "text": [
      "The average validation score is: 0.9483\t AND R^2 = 0.9454\n",
      "Mean Squared Error: 1260829.35\n"
     ]
    }
   ],
   "source": [
    "# Ridge model\n",
    "lm_reg = Ridge(alpha=1)\n",
    "\n",
    "# Ridge regression model cross validation\n",
    "val_score = cross_val_score(lm_reg, X_train, y_train, # estimator, features, target\n",
    "                cv=5, # number of folds \n",
    "                scoring='r2') # scoring metric\n",
    "val_sc = round(val_score.mean(),4)\n",
    "\n",
    "lm_reg.fit(X_train, y_train)\n",
    "y_pred_test = lm_reg.predict(X_test)\n",
    "r_2 = round(metrics.r2_score(y_test,y_pred_test),4)\n",
    "mean_sq = round(mean_squared_error(y_test,y_pred_test),2 )\n",
    "print(f'The average validation score is: {val_sc}\\t AND R^2 = {r_2}')\n",
    "print(f'Mean Squared Error: {mean_sq}') "
   ]
  },
  {
   "cell_type": "code",
   "execution_count": 13,
   "metadata": {},
   "outputs": [
    {
     "name": "stdout",
     "output_type": "stream",
     "text": [
      "The average validation score is: 0.9487\t AND R^2 = 0.9452\n",
      "Mean Squared Error: 1264357.72\n"
     ]
    }
   ],
   "source": [
    "# Feature scaling for train, val, and test so that we can run our ridge model on each\n",
    "scaler = StandardScaler()\n",
    "\n",
    "X_train_scaled = scaler.fit_transform(X_train.values)\n",
    "X_test_scaled = scaler.transform(X_test.values)\n",
    "\n",
    "\n",
    "# Ridge model\n",
    "lm_reg = Ridge(alpha=1)\n",
    "\n",
    "# Ridge regression model cross validation\n",
    "val_score = cross_val_score(lm_reg, X_train_scaled, y_train, # estimator, features, target\n",
    "                cv=5, # number of folds \n",
    "                scoring='r2') # scoring metric\n",
    "val_sc = round(val_score.mean(),4)\n",
    "\n",
    "lm_reg.fit(X_train_scaled, y_train)\n",
    "y_pred_test = lm_reg.predict(X_test_scaled)\n",
    "r_2 = round(metrics.r2_score(y_test,y_pred_test),4)\n",
    "mean_sq = round(mean_squared_error(y_test,y_pred_test),2 )\n",
    "\n",
    "print(f'The average validation score is: {val_sc}\\t AND R^2 = {r_2}')\n",
    "print(f'Mean Squared Error: {mean_sq}') \n",
    "\n"
   ]
  },
  {
   "cell_type": "markdown",
   "metadata": {},
   "source": [
    "<h3><center>4. polynomial regression</center></h3>"
   ]
  },
  {
   "cell_type": "code",
   "execution_count": 14,
   "metadata": {},
   "outputs": [
    {
     "name": "stdout",
     "output_type": "stream",
     "text": [
      "The average validation score of Polynomial regression with degree 2 is: 0.9487\t AND R^2 = 0.9452\n",
      "Mean Squared Error: 1264586.81\n"
     ]
    }
   ],
   "source": [
    "# polynomial model\n",
    "# Feature transforms for train test so that we can run our poly model on each\n",
    "poly = PolynomialFeatures(degree=2) \n",
    "\n",
    "X_train_poly = poly.fit_transform(X_train.values)\n",
    "X_test_poly = poly.transform(X_test.values)\n",
    "\n",
    "lm_poly = LinearRegression()\n",
    "\n",
    "\n",
    "# Ridge regression model cross validation\n",
    "val_score = cross_val_score(lm_poly, X_train_scaled, y_train, # estimator, features, target\n",
    "                cv=5, # number of folds \n",
    "                scoring='r2') # scoring metric\n",
    "val_sc = round(val_score.mean(),4)\n",
    "\n",
    "lm_poly.fit(X_train_scaled, y_train)\n",
    "y_pred_test = lm_poly.predict(X_test_scaled)\n",
    "r_2 = round(metrics.r2_score(y_test,y_pred_test),4)\n",
    "mean_sq = round(mean_squared_error(y_test,y_pred_test),2 )\n",
    "print(f'The average validation score of Polynomial regression with degree 2 is: {val_sc}\\t AND R^2 = {r_2}')\n",
    "print(f'Mean Squared Error: {mean_sq}')"
   ]
  },
  {
   "cell_type": "markdown",
   "metadata": {},
   "source": [
    "<h3><center>5. Model Selection</center></h3>"
   ]
  },
  {
   "cell_type": "code",
   "execution_count": 15,
   "metadata": {},
   "outputs": [
    {
     "name": "stdout",
     "output_type": "stream",
     "text": [
      "Selected Model: Lasso Regression\n",
      "Model coefficients: [ 7.99151974e+02 -5.20032320e-02 -3.48953929e+00 -2.69901292e+01\n",
      "  2.86263477e+03  3.18919738e+02 -2.51605732e+03  5.21558343e+03\n",
      "  1.58117349e+03  4.69229517e+03  4.81102119e+03  6.36237794e+03\n",
      "  8.50522130e+03  5.07727276e+03  3.51444407e+03  7.18838980e+02\n",
      " -1.64006402e+03 -1.39089813e+03 -2.37771014e+02  2.40951966e+03\n",
      "  5.59965688e+02]\n",
      "Model intercept:  -1600765.0 4\n"
     ]
    }
   ],
   "source": [
    "# mean sq error\n",
    "# lasso Error: min => 1260993.2 \n",
    "print(\"Selected Model: Lasso Regression\")\n",
    "print('Model coefficients: %s'%(lm_laso.coef_))\n",
    "print('Model intercept: ',round(lm_laso.intercept_),4)\n"
   ]
  },
  {
   "cell_type": "code",
   "execution_count": 16,
   "metadata": {},
   "outputs": [
    {
     "data": {
      "image/png": "[encoded data removed]",
      "text/plain": [
       "<Figure size 432x288 with 1 Axes>"
      ]
     },
     "metadata": {
      "needs_background": "light"
     },
     "output_type": "display_data"
    }
   ],
   "source": [
    "# Residual plot\n",
    "error_rs = pd.DataFrame({'Error': (y_test - y_pred_test)})\n",
    "ax = plt.scatter(y_pred_test,error_rs['Error'],alpha=0.5)\n",
    "plt.title('Lasso Regression Model', fontsize=12, fontweight='bold',y=1.03)\n",
    "plt.ylabel('Residuals',fontweight='bold')\n",
    "plt.xlabel('Predected Values',fontweight='bold');\n",
    "# plt.savefig('Lasso Regression Model.png', dpi=430);"
   ]
  },
  {
   "cell_type": "code",
   "execution_count": null,
   "metadata": {},
   "outputs": [],
   "source": []
  }
 ],
 "metadata": {
  "kernelspec": {
   "display_name": "Python 3",
   "language": "python",
   "name": "python3"
  },
  "language_info": {
   "codemirror_mode": {
    "name": "ipython",
    "version": 3
   },
   "file_extension": ".py",
   "mimetype": "text/x-python",
   "name": "python",
   "nbconvert_exporter": "python",
   "pygments_lexer": "ipython3",
   "version": "3.7.4"
  }
 },
 "nbformat": 4,
 "nbformat_minor": 2
}
